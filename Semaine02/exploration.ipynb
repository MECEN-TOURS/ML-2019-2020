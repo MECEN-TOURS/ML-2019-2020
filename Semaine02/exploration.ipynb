{
 "cells": [
  {
   "cell_type": "code",
   "execution_count": 1,
   "metadata": {},
   "outputs": [],
   "source": [
    "from requests import get"
   ]
  },
  {
   "cell_type": "code",
   "execution_count": 2,
   "metadata": {},
   "outputs": [],
   "source": [
    "chemin = \"https://fr.wikipedia.org/wiki/France\""
   ]
  },
  {
   "cell_type": "code",
   "execution_count": 3,
   "metadata": {},
   "outputs": [],
   "source": [
    "page = get(chemin)"
   ]
  },
  {
   "cell_type": "code",
   "execution_count": 4,
   "metadata": {},
   "outputs": [
    {
     "data": {
      "text/plain": [
       "200"
      ]
     },
     "execution_count": 4,
     "metadata": {},
     "output_type": "execute_result"
    }
   ],
   "source": [
    "page.status_code"
   ]
  },
  {
   "cell_type": "code",
   "execution_count": 5,
   "metadata": {},
   "outputs": [],
   "source": [
    "texte = page.text"
   ]
  },
  {
   "cell_type": "code",
   "execution_count": 6,
   "metadata": {},
   "outputs": [],
   "source": [
    "import re"
   ]
  },
  {
   "cell_type": "code",
   "execution_count": 17,
   "metadata": {},
   "outputs": [],
   "source": [
    "motif = re.compile(\"[Ss]uperficie(.{50})\")"
   ]
  },
  {
   "cell_type": "code",
   "execution_count": 20,
   "metadata": {},
   "outputs": [
    {
     "name": "stdout",
     "output_type": "stream",
     "text": [
      "<class 'list'>\n",
      "12\n"
     ]
    }
   ],
   "source": [
    "resultats = motif.findall(texte)\n",
    "print(type(resultats))\n",
    "print(len(resultats))"
   ]
  },
  {
   "cell_type": "code",
   "execution_count": 19,
   "metadata": {},
   "outputs": [
    {
     "name": "stdout",
     "output_type": "stream",
     "text": [
      "\" title=\"Liste des pays et territoires par superfi\n",
      "\"><span class=\"tocnumber\">1.1</span> <span class=\"\n",
      "\"></span><span class=\"mw-headline\" id=\"Localisatio\n",
      "\">Localisation, frontières et superficie</span></h\n",
      "_de_la_France\" title=\"Superficie de la France\">Sup\n",
      " de la France métropolitaine à la fin du <abbr cla\n",
      " de la France métropolitaine et des DOM qui s'étab\n",
      " cadastrale) et à 641&#160;184&#160;<abbr class=\"a\n",
      " géodésique). La superficie de la France entière, \n",
      " forestière en métropole est constituée de 65&#160\n",
      " totale est de 200&#160;364 km², ce qui représente\n",
      "\" class=\"mw-redirect\" title=\"Superficie\">superfici\n"
     ]
    }
   ],
   "source": [
    "for resultat in resultats:\n",
    "    print(resultat)"
   ]
  },
  {
   "cell_type": "code",
   "execution_count": 21,
   "metadata": {},
   "outputs": [
    {
     "name": "stdout",
     "output_type": "stream",
     "text": [
      "<class 'list'>\n",
      "15\n"
     ]
    }
   ],
   "source": [
    "motif = re.compile(\"[Ss]uperficie(.{1,50})\")\n",
    "resultats = motif.findall(texte)\n",
    "print(type(resultats))\n",
    "print(len(resultats))"
   ]
  },
  {
   "cell_type": "code",
   "execution_count": 22,
   "metadata": {},
   "outputs": [
    {
     "name": "stdout",
     "output_type": "stream",
     "text": [
      " totale</th>\n",
      "\" title=\"Liste des pays et territoires par superfi\n",
      " en eau</th>\n",
      "\"><span class=\"tocnumber\">1.1</span> <span class=\"\n",
      "</span></a></li>\n",
      "\"></span><span class=\"mw-headline\" id=\"Localisatio\n",
      "\">Localisation, frontières et superficie</span></h\n",
      "_de_la_France\" title=\"Superficie de la France\">Sup\n",
      " de la France métropolitaine à la fin du <abbr cla\n",
      " de la France métropolitaine et des DOM qui s'étab\n",
      " cadastrale) et à 641&#160;184&#160;<abbr class=\"a\n",
      " géodésique). La superficie de la France entière, \n",
      " forestière en métropole est constituée de 65&#160\n",
      " totale est de 200&#160;364 km², ce qui représente\n",
      "\" class=\"mw-redirect\" title=\"Superficie\">superfici\n"
     ]
    }
   ],
   "source": [
    "for resultat in resultats:\n",
    "    print(resultat)"
   ]
  },
  {
   "cell_type": "code",
   "execution_count": 25,
   "metadata": {},
   "outputs": [
    {
     "name": "stdout",
     "output_type": "stream",
     "text": [
      "<class 'list'>\n",
      "15\n"
     ]
    }
   ],
   "source": [
    "motif = re.compile(\"[Ss]uperficie((.|\\\\n){1,50})\")\n",
    "resultats = motif.findall(texte)\n",
    "print(type(resultats))\n",
    "print(len(resultats))"
   ]
  },
  {
   "cell_type": "code",
   "execution_count": 26,
   "metadata": {},
   "outputs": [
    {
     "name": "stdout",
     "output_type": "stream",
     "text": [
      "(' totale</th>\\n<td>\\n632&#160;734<sup id=\"cite_ref-1\"', '\"')\n",
      "('\" title=\"Liste des pays et territoires par superfi', 'i')\n",
      "(' en eau</th>\\n<td>\\n0,26&#160;%</td>\\n</tr><tr>\\n<th s', 's')\n",
      "('\"><span class=\"tocnumber\">1.1</span> <span class=\"', '\"')\n",
      "('</span></a></li>\\n<li class=\"toclevel-2 tocsection-', '-')\n",
      "('\"></span><span class=\"mw-headline\" id=\"Localisatio', 'o')\n",
      "('\">Localisation, frontières et superficie</span></h', 'h')\n",
      "('_de_la_France\" title=\"Superficie de la France\">Sup', 'p')\n",
      "(' de la France métropolitaine à la fin du <abbr cla', 'a')\n",
      "(\" de la France métropolitaine et des DOM qui s'étab\", 'b')\n",
      "(' cadastrale) et à 641&#160;184&#160;<abbr class=\"a', 'a')\n",
      "(' géodésique). La superficie de la France entière, ', ' ')\n",
      "(' forestière en métropole est constituée de 65&#160', '0')\n",
      "(' totale est de 200&#160;364 km², ce qui représente', 'e')\n",
      "('\" class=\"mw-redirect\" title=\"Superficie\">superfici', 'i')\n"
     ]
    }
   ],
   "source": [
    "for resultat in resultats:\n",
    "    print(resultat)"
   ]
  },
  {
   "cell_type": "code",
   "execution_count": 27,
   "metadata": {},
   "outputs": [],
   "source": [
    "import bs4"
   ]
  },
  {
   "cell_type": "code",
   "execution_count": 28,
   "metadata": {
    "collapsed": true
   },
   "outputs": [
    {
     "name": "stdout",
     "output_type": "stream",
     "text": [
      "Help on package bs4:\n",
      "\n",
      "NAME\n",
      "    bs4\n",
      "\n",
      "DESCRIPTION\n",
      "    Beautiful Soup\n",
      "    Elixir and Tonic\n",
      "    \"The Screen-Scraper's Friend\"\n",
      "    http://www.crummy.com/software/BeautifulSoup/\n",
      "    \n",
      "    Beautiful Soup uses a pluggable XML or HTML parser to parse a\n",
      "    (possibly invalid) document into a tree representation. Beautiful Soup\n",
      "    provides methods and Pythonic idioms that make it easy to navigate,\n",
      "    search, and modify the parse tree.\n",
      "    \n",
      "    Beautiful Soup works with Python 2.7 and up. It works better if lxml\n",
      "    and/or html5lib is installed.\n",
      "    \n",
      "    For more than you ever wanted to know about Beautiful Soup, see the\n",
      "    documentation:\n",
      "    http://www.crummy.com/software/BeautifulSoup/bs4/doc/\n",
      "\n",
      "PACKAGE CONTENTS\n",
      "    builder (package)\n",
      "    dammit\n",
      "    diagnose\n",
      "    element\n",
      "    testing\n",
      "    tests (package)\n",
      "\n",
      "CLASSES\n",
      "    bs4.element.Tag(bs4.element.PageElement)\n",
      "        BeautifulSoup\n",
      "    \n",
      "    class BeautifulSoup(bs4.element.Tag)\n",
      "     |  This class defines the basic interface called by the tree builders.\n",
      "     |  \n",
      "     |  These methods will be called by the parser:\n",
      "     |    reset()\n",
      "     |    feed(markup)\n",
      "     |  \n",
      "     |  The tree builder may call these methods from its feed() implementation:\n",
      "     |    handle_starttag(name, attrs) # See note about return value\n",
      "     |    handle_endtag(name)\n",
      "     |    handle_data(data) # Appends to the current data node\n",
      "     |    endData(containerClass=NavigableString) # Ends the current data node\n",
      "     |  \n",
      "     |  No matter how complicated the underlying parser is, you should be\n",
      "     |  able to build a tree using 'start tag' events, 'end tag' events,\n",
      "     |  'data' events, and \"done with data\" events.\n",
      "     |  \n",
      "     |  If you encounter an empty-element tag (aka a self-closing tag,\n",
      "     |  like HTML's <br> tag), call handle_starttag and then\n",
      "     |  handle_endtag.\n",
      "     |  \n",
      "     |  Method resolution order:\n",
      "     |      BeautifulSoup\n",
      "     |      bs4.element.Tag\n",
      "     |      bs4.element.PageElement\n",
      "     |      builtins.object\n",
      "     |  \n",
      "     |  Methods defined here:\n",
      "     |  \n",
      "     |  __copy__(self)\n",
      "     |      A copy of a Tag is a new Tag, unconnected to the parse tree.\n",
      "     |      Its contents are a copy of the old Tag's contents.\n",
      "     |  \n",
      "     |  __getstate__(self)\n",
      "     |  \n",
      "     |  __init__(self, markup='', features=None, builder=None, parse_only=None, from_encoding=None, exclude_encodings=None, **kwargs)\n",
      "     |      The Soup object is initialized as the 'root tag', and the\n",
      "     |      provided markup (which can be a string or a file-like object)\n",
      "     |      is fed into the underlying parser.\n",
      "     |  \n",
      "     |  decode(self, pretty_print=False, eventual_encoding='utf-8', formatter='minimal')\n",
      "     |      Returns a string or Unicode representation of this document.\n",
      "     |      To get Unicode, pass None for encoding.\n",
      "     |  \n",
      "     |  endData(self, containerClass=<class 'bs4.element.NavigableString'>)\n",
      "     |  \n",
      "     |  handle_data(self, data)\n",
      "     |  \n",
      "     |  handle_endtag(self, name, nsprefix=None)\n",
      "     |  \n",
      "     |  handle_starttag(self, name, namespace, nsprefix, attrs)\n",
      "     |      Push a start tag on to the stack.\n",
      "     |      \n",
      "     |      If this method returns None, the tag was rejected by the\n",
      "     |      SoupStrainer. You should proceed as if the tag had not occurred\n",
      "     |      in the document. For instance, if this was a self-closing tag,\n",
      "     |      don't call handle_endtag.\n",
      "     |  \n",
      "     |  insert_after(self, successor)\n",
      "     |      Makes the given element the immediate successor of this one.\n",
      "     |      \n",
      "     |      The two elements will have the same parent, and the given element\n",
      "     |      will be immediately after this one.\n",
      "     |  \n",
      "     |  insert_before(self, successor)\n",
      "     |      Makes the given element the immediate predecessor of this one.\n",
      "     |      \n",
      "     |      The two elements will have the same parent, and the given element\n",
      "     |      will be immediately before this one.\n",
      "     |  \n",
      "     |  new_string(self, s, subclass=<class 'bs4.element.NavigableString'>)\n",
      "     |      Create a new NavigableString associated with this soup.\n",
      "     |  \n",
      "     |  new_tag(self, name, namespace=None, nsprefix=None, **attrs)\n",
      "     |      Create a new tag associated with this soup.\n",
      "     |  \n",
      "     |  object_was_parsed(self, o, parent=None, most_recent_element=None)\n",
      "     |      Add an object to the parse tree.\n",
      "     |  \n",
      "     |  popTag(self)\n",
      "     |  \n",
      "     |  pushTag(self, tag)\n",
      "     |  \n",
      "     |  reset(self)\n",
      "     |  \n",
      "     |  ----------------------------------------------------------------------\n",
      "     |  Data and other attributes defined here:\n",
      "     |  \n",
      "     |  ASCII_SPACES = ' \\n\\t\\x0c\\r'\n",
      "     |  \n",
      "     |  DEFAULT_BUILDER_FEATURES = ['html', 'fast']\n",
      "     |  \n",
      "     |  NO_PARSER_SPECIFIED_WARNING = 'No parser was explicitly specified, so ...\n",
      "     |  \n",
      "     |  ROOT_TAG_NAME = '[document]'\n",
      "     |  \n",
      "     |  ----------------------------------------------------------------------\n",
      "     |  Methods inherited from bs4.element.Tag:\n",
      "     |  \n",
      "     |  __bool__(self)\n",
      "     |      A tag is non-None even if it has no contents.\n",
      "     |  \n",
      "     |  __call__(self, *args, **kwargs)\n",
      "     |      Calling a tag like a function is the same as calling its\n",
      "     |      find_all() method. Eg. tag('a') returns a list of all the A tags\n",
      "     |      found within this tag.\n",
      "     |  \n",
      "     |  __contains__(self, x)\n",
      "     |  \n",
      "     |  __delitem__(self, key)\n",
      "     |      Deleting tag[key] deletes all 'key' attributes for the tag.\n",
      "     |  \n",
      "     |  __eq__(self, other)\n",
      "     |      Returns true iff this tag has the same name, the same attributes,\n",
      "     |      and the same contents (recursively) as the given tag.\n",
      "     |  \n",
      "     |  __getattr__(self, tag)\n",
      "     |  \n",
      "     |  __getitem__(self, key)\n",
      "     |      tag[key] returns the value of the 'key' attribute for the tag,\n",
      "     |      and throws an exception if it's not there.\n",
      "     |  \n",
      "     |  __hash__(self)\n",
      "     |      Return hash(self).\n",
      "     |  \n",
      "     |  __iter__(self)\n",
      "     |      Iterating over a tag iterates over its contents.\n",
      "     |  \n",
      "     |  __len__(self)\n",
      "     |      The length of a tag is the length of its list of contents.\n",
      "     |  \n",
      "     |  __ne__(self, other)\n",
      "     |      Returns true iff this tag is not identical to the other tag,\n",
      "     |      as defined in __eq__.\n",
      "     |  \n",
      "     |  __repr__ = __unicode__(self)\n",
      "     |  \n",
      "     |  __setitem__(self, key, value)\n",
      "     |      Setting tag[key] sets the value of the 'key' attribute for the\n",
      "     |      tag.\n",
      "     |  \n",
      "     |  __str__ = __unicode__(self)\n",
      "     |  \n",
      "     |  __unicode__(self)\n",
      "     |  \n",
      "     |  childGenerator(self)\n",
      "     |      # Old names for backwards compatibility\n",
      "     |  \n",
      "     |  clear(self, decompose=False)\n",
      "     |      Extract all children. If decompose is True, decompose instead.\n",
      "     |  \n",
      "     |  decode_contents(self, indent_level=None, eventual_encoding='utf-8', formatter='minimal')\n",
      "     |      Renders the contents of this tag as a Unicode string.\n",
      "     |      \n",
      "     |      :param indent_level: Each line of the rendering will be\n",
      "     |         indented this many spaces.\n",
      "     |      \n",
      "     |      :param eventual_encoding: The tag is destined to be\n",
      "     |         encoded into this encoding. This method is _not_\n",
      "     |         responsible for performing that encoding. This information\n",
      "     |         is passed in so that it can be substituted in if the\n",
      "     |         document contains a <META> tag that mentions the document's\n",
      "     |         encoding.\n",
      "     |      \n",
      "     |      :param formatter: The output formatter responsible for converting\n",
      "     |         entities to Unicode characters.\n",
      "     |  \n",
      "     |  decompose(self)\n",
      "     |      Recursively destroys the contents of this tree.\n",
      "     |  \n",
      "     |  encode(self, encoding='utf-8', indent_level=None, formatter='minimal', errors='xmlcharrefreplace')\n",
      "     |  \n",
      "     |  encode_contents(self, indent_level=None, encoding='utf-8', formatter='minimal')\n",
      "     |      Renders the contents of this tag as a bytestring.\n",
      "     |      \n",
      "     |      :param indent_level: Each line of the rendering will be\n",
      "     |         indented this many spaces.\n",
      "     |      \n",
      "     |      :param eventual_encoding: The bytestring will be in this encoding.\n",
      "     |      \n",
      "     |      :param formatter: The output formatter responsible for converting\n",
      "     |         entities to Unicode characters.\n",
      "     |  \n",
      "     |  find(self, name=None, attrs={}, recursive=True, text=None, **kwargs)\n",
      "     |      Return only the first child of this Tag matching the given\n",
      "     |      criteria.\n",
      "     |  \n",
      "     |  findAll = find_all(self, name=None, attrs={}, recursive=True, text=None, limit=None, **kwargs)\n",
      "     |      Extracts a list of Tag objects that match the given\n",
      "     |      criteria.  You can specify the name of the Tag and any\n",
      "     |      attributes you want the Tag to have.\n",
      "     |      \n",
      "     |      The value of a key-value pair in the 'attrs' map can be a\n",
      "     |      string, a list of strings, a regular expression object, or a\n",
      "     |      callable that takes a string and returns whether or not the\n",
      "     |      string matches for some custom definition of 'matches'. The\n",
      "     |      same is true of the tag name.\n",
      "     |  \n",
      "     |  findChild = find(self, name=None, attrs={}, recursive=True, text=None, **kwargs)\n",
      "     |      Return only the first child of this Tag matching the given\n",
      "     |      criteria.\n",
      "     |  \n",
      "     |  findChildren = find_all(self, name=None, attrs={}, recursive=True, text=None, limit=None, **kwargs)\n",
      "     |      Extracts a list of Tag objects that match the given\n",
      "     |      criteria.  You can specify the name of the Tag and any\n",
      "     |      attributes you want the Tag to have.\n",
      "     |      \n",
      "     |      The value of a key-value pair in the 'attrs' map can be a\n",
      "     |      string, a list of strings, a regular expression object, or a\n",
      "     |      callable that takes a string and returns whether or not the\n",
      "     |      string matches for some custom definition of 'matches'. The\n",
      "     |      same is true of the tag name.\n",
      "     |  \n",
      "     |  find_all(self, name=None, attrs={}, recursive=True, text=None, limit=None, **kwargs)\n",
      "     |      Extracts a list of Tag objects that match the given\n",
      "     |      criteria.  You can specify the name of the Tag and any\n",
      "     |      attributes you want the Tag to have.\n",
      "     |      \n",
      "     |      The value of a key-value pair in the 'attrs' map can be a\n",
      "     |      string, a list of strings, a regular expression object, or a\n",
      "     |      callable that takes a string and returns whether or not the\n",
      "     |      string matches for some custom definition of 'matches'. The\n",
      "     |      same is true of the tag name.\n",
      "     |  \n",
      "     |  get(self, key, default=None)\n",
      "     |      Returns the value of the 'key' attribute for the tag, or\n",
      "     |      the value given for 'default' if it doesn't have that\n",
      "     |      attribute.\n",
      "     |  \n",
      "     |  getText = get_text(self, separator='', strip=False, types=(<class 'bs4.element.NavigableString'>, <class 'bs4.element.CData'>))\n",
      "     |      Get all child strings, concatenated using the given separator.\n",
      "     |  \n",
      "     |  get_attribute_list(self, key, default=None)\n",
      "     |      The same as get(), but always returns a list.\n",
      "     |  \n",
      "     |  get_text(self, separator='', strip=False, types=(<class 'bs4.element.NavigableString'>, <class 'bs4.element.CData'>))\n",
      "     |      Get all child strings, concatenated using the given separator.\n",
      "     |  \n",
      "     |  has_attr(self, key)\n",
      "     |  \n",
      "     |  has_key(self, key)\n",
      "     |      This was kind of misleading because has_key() (attributes)\n",
      "     |      was different from __in__ (contents). has_key() is gone in\n",
      "     |      Python 3, anyway.\n",
      "     |  \n",
      "     |  index(self, element)\n",
      "     |      Find the index of a child by identity, not value. Avoids issues with\n",
      "     |      tag.contents.index(element) getting the index of equal elements.\n",
      "     |  \n",
      "     |  prettify(self, encoding=None, formatter='minimal')\n",
      "     |  \n",
      "     |  recursiveChildGenerator(self)\n",
      "     |  \n",
      "     |  renderContents(self, encoding='utf-8', prettyPrint=False, indentLevel=0)\n",
      "     |      # Old method for BS3 compatibility\n",
      "     |  \n",
      "     |  select(self, selector, _candidate_generator=None, limit=None)\n",
      "     |      Perform a CSS selection operation on the current element.\n",
      "     |  \n",
      "     |  select_one(self, selector)\n",
      "     |      Perform a CSS selection operation on the current element.\n",
      "     |  \n",
      "     |  ----------------------------------------------------------------------\n",
      "     |  Data descriptors inherited from bs4.element.Tag:\n",
      "     |  \n",
      "     |  children\n",
      "     |  \n",
      "     |  descendants\n",
      "     |  \n",
      "     |  isSelfClosing\n",
      "     |      Is this tag an empty-element tag? (aka a self-closing tag)\n",
      "     |      \n",
      "     |      A tag that has contents is never an empty-element tag.\n",
      "     |      \n",
      "     |      A tag that has no contents may or may not be an empty-element\n",
      "     |      tag. It depends on the builder used to create the tag. If the\n",
      "     |      builder has a designated list of empty-element tags, then only\n",
      "     |      a tag whose name shows up in that list is considered an\n",
      "     |      empty-element tag.\n",
      "     |      \n",
      "     |      If the builder has no designated list of empty-element tags,\n",
      "     |      then any tag with no contents is an empty-element tag.\n",
      "     |  \n",
      "     |  is_empty_element\n",
      "     |      Is this tag an empty-element tag? (aka a self-closing tag)\n",
      "     |      \n",
      "     |      A tag that has contents is never an empty-element tag.\n",
      "     |      \n",
      "     |      A tag that has no contents may or may not be an empty-element\n",
      "     |      tag. It depends on the builder used to create the tag. If the\n",
      "     |      builder has a designated list of empty-element tags, then only\n",
      "     |      a tag whose name shows up in that list is considered an\n",
      "     |      empty-element tag.\n",
      "     |      \n",
      "     |      If the builder has no designated list of empty-element tags,\n",
      "     |      then any tag with no contents is an empty-element tag.\n",
      "     |  \n",
      "     |  parserClass\n",
      "     |  \n",
      "     |  string\n",
      "     |      Convenience property to get the single string within this tag.\n",
      "     |      \n",
      "     |      :Return: If this tag has a single string child, return value\n",
      "     |       is that string. If this tag has no children, or more than one\n",
      "     |       child, return value is None. If this tag has one child tag,\n",
      "     |       return value is the 'string' attribute of the child tag,\n",
      "     |       recursively.\n",
      "     |  \n",
      "     |  strings\n",
      "     |      Yield all strings of certain classes, possibly stripping them.\n",
      "     |      \n",
      "     |      By default, yields only NavigableString and CData objects. So\n",
      "     |      no comments, processing instructions, etc.\n",
      "     |  \n",
      "     |  stripped_strings\n",
      "     |  \n",
      "     |  text\n",
      "     |      Get all child strings, concatenated using the given separator.\n",
      "     |  \n",
      "     |  ----------------------------------------------------------------------\n",
      "     |  Data and other attributes inherited from bs4.element.Tag:\n",
      "     |  \n",
      "     |  quoted_colon = re.compile('\"[^\"]*:[^\"]*\"')\n",
      "     |  \n",
      "     |  ----------------------------------------------------------------------\n",
      "     |  Methods inherited from bs4.element.PageElement:\n",
      "     |  \n",
      "     |  append(self, tag)\n",
      "     |      Appends the given tag to the contents of this tag.\n",
      "     |  \n",
      "     |  extract(self)\n",
      "     |      Destructively rips this element out of the tree.\n",
      "     |  \n",
      "     |  fetchNextSiblings = find_next_siblings(self, name=None, attrs={}, text=None, limit=None, **kwargs)\n",
      "     |      Returns the siblings of this Tag that match the given\n",
      "     |      criteria and appear after this Tag in the document.\n",
      "     |  \n",
      "     |  fetchParents = find_parents(self, name=None, attrs={}, limit=None, **kwargs)\n",
      "     |      Returns the parents of this Tag that match the given\n",
      "     |      criteria.\n",
      "     |  \n",
      "     |  fetchPrevious = find_all_previous(self, name=None, attrs={}, text=None, limit=None, **kwargs)\n",
      "     |      Returns all items that match the given criteria and appear\n",
      "     |      before this Tag in the document.\n",
      "     |  \n",
      "     |  fetchPreviousSiblings = find_previous_siblings(self, name=None, attrs={}, text=None, limit=None, **kwargs)\n",
      "     |      Returns the siblings of this Tag that match the given\n",
      "     |      criteria and appear before this Tag in the document.\n",
      "     |  \n",
      "     |  findAllNext = find_all_next(self, name=None, attrs={}, text=None, limit=None, **kwargs)\n",
      "     |      Returns all items that match the given criteria and appear\n",
      "     |      after this Tag in the document.\n",
      "     |  \n",
      "     |  findAllPrevious = find_all_previous(self, name=None, attrs={}, text=None, limit=None, **kwargs)\n",
      "     |      Returns all items that match the given criteria and appear\n",
      "     |      before this Tag in the document.\n",
      "     |  \n",
      "     |  findNext = find_next(self, name=None, attrs={}, text=None, **kwargs)\n",
      "     |      Returns the first item that matches the given criteria and\n",
      "     |      appears after this Tag in the document.\n",
      "     |  \n",
      "     |  findNextSibling = find_next_sibling(self, name=None, attrs={}, text=None, **kwargs)\n",
      "     |      Returns the closest sibling to this Tag that matches the\n",
      "     |      given criteria and appears after this Tag in the document.\n",
      "     |  \n",
      "     |  findNextSiblings = find_next_siblings(self, name=None, attrs={}, text=None, limit=None, **kwargs)\n",
      "     |      Returns the siblings of this Tag that match the given\n",
      "     |      criteria and appear after this Tag in the document.\n",
      "     |  \n",
      "     |  findParent = find_parent(self, name=None, attrs={}, **kwargs)\n",
      "     |      Returns the closest parent of this Tag that matches the given\n",
      "     |      criteria.\n",
      "     |  \n",
      "     |  findParents = find_parents(self, name=None, attrs={}, limit=None, **kwargs)\n",
      "     |      Returns the parents of this Tag that match the given\n",
      "     |      criteria.\n",
      "     |  \n",
      "     |  findPrevious = find_previous(self, name=None, attrs={}, text=None, **kwargs)\n",
      "     |      Returns the first item that matches the given criteria and\n",
      "     |      appears before this Tag in the document.\n",
      "     |  \n",
      "     |  findPreviousSibling = find_previous_sibling(self, name=None, attrs={}, text=None, **kwargs)\n",
      "     |      Returns the closest sibling to this Tag that matches the\n",
      "     |      given criteria and appears before this Tag in the document.\n",
      "     |  \n",
      "     |  findPreviousSiblings = find_previous_siblings(self, name=None, attrs={}, text=None, limit=None, **kwargs)\n",
      "     |      Returns the siblings of this Tag that match the given\n",
      "     |      criteria and appear before this Tag in the document.\n",
      "     |  \n",
      "     |  find_all_next(self, name=None, attrs={}, text=None, limit=None, **kwargs)\n",
      "     |      Returns all items that match the given criteria and appear\n",
      "     |      after this Tag in the document.\n",
      "     |  \n",
      "     |  find_all_previous(self, name=None, attrs={}, text=None, limit=None, **kwargs)\n",
      "     |      Returns all items that match the given criteria and appear\n",
      "     |      before this Tag in the document.\n",
      "     |  \n",
      "     |  find_next(self, name=None, attrs={}, text=None, **kwargs)\n",
      "     |      Returns the first item that matches the given criteria and\n",
      "     |      appears after this Tag in the document.\n",
      "     |  \n",
      "     |  find_next_sibling(self, name=None, attrs={}, text=None, **kwargs)\n",
      "     |      Returns the closest sibling to this Tag that matches the\n",
      "     |      given criteria and appears after this Tag in the document.\n",
      "     |  \n",
      "     |  find_next_siblings(self, name=None, attrs={}, text=None, limit=None, **kwargs)\n",
      "     |      Returns the siblings of this Tag that match the given\n",
      "     |      criteria and appear after this Tag in the document.\n",
      "     |  \n",
      "     |  find_parent(self, name=None, attrs={}, **kwargs)\n",
      "     |      Returns the closest parent of this Tag that matches the given\n",
      "     |      criteria.\n",
      "     |  \n",
      "     |  find_parents(self, name=None, attrs={}, limit=None, **kwargs)\n",
      "     |      Returns the parents of this Tag that match the given\n",
      "     |      criteria.\n",
      "     |  \n",
      "     |  find_previous(self, name=None, attrs={}, text=None, **kwargs)\n",
      "     |      Returns the first item that matches the given criteria and\n",
      "     |      appears before this Tag in the document.\n",
      "     |  \n",
      "     |  find_previous_sibling(self, name=None, attrs={}, text=None, **kwargs)\n",
      "     |      Returns the closest sibling to this Tag that matches the\n",
      "     |      given criteria and appears before this Tag in the document.\n",
      "     |  \n",
      "     |  find_previous_siblings(self, name=None, attrs={}, text=None, limit=None, **kwargs)\n",
      "     |      Returns the siblings of this Tag that match the given\n",
      "     |      criteria and appear before this Tag in the document.\n",
      "     |  \n",
      "     |  format_string(self, s, formatter='minimal')\n",
      "     |      Format the given string using the given formatter.\n",
      "     |  \n",
      "     |  insert(self, position, new_child)\n",
      "     |  \n",
      "     |  nextGenerator(self)\n",
      "     |      # Old non-property versions of the generators, for backwards\n",
      "     |      # compatibility with BS3.\n",
      "     |  \n",
      "     |  nextSiblingGenerator(self)\n",
      "     |  \n",
      "     |  parentGenerator(self)\n",
      "     |  \n",
      "     |  previousGenerator(self)\n",
      "     |  \n",
      "     |  previousSiblingGenerator(self)\n",
      "     |  \n",
      "     |  replaceWith = replace_with(self, replace_with)\n",
      "     |  \n",
      "     |  replaceWithChildren = unwrap(self)\n",
      "     |  \n",
      "     |  replace_with(self, replace_with)\n",
      "     |  \n",
      "     |  replace_with_children = unwrap(self)\n",
      "     |  \n",
      "     |  setup(self, parent=None, previous_element=None, next_element=None, previous_sibling=None, next_sibling=None)\n",
      "     |      Sets up the initial relations between this element and\n",
      "     |      other elements.\n",
      "     |  \n",
      "     |  unwrap(self)\n",
      "     |  \n",
      "     |  wrap(self, wrap_inside)\n",
      "     |  \n",
      "     |  ----------------------------------------------------------------------\n",
      "     |  Data descriptors inherited from bs4.element.PageElement:\n",
      "     |  \n",
      "     |  __dict__\n",
      "     |      dictionary for instance variables (if defined)\n",
      "     |  \n",
      "     |  __weakref__\n",
      "     |      list of weak references to the object (if defined)\n",
      "     |  \n",
      "     |  next\n",
      "     |  \n",
      "     |  nextSibling\n",
      "     |  \n",
      "     |  next_elements\n",
      "     |  \n",
      "     |  next_siblings\n",
      "     |  \n",
      "     |  parents\n",
      "     |  \n",
      "     |  previous\n",
      "     |  \n",
      "     |  previousSibling\n",
      "     |  \n",
      "     |  previous_elements\n",
      "     |  \n",
      "     |  previous_siblings\n",
      "     |  \n",
      "     |  ----------------------------------------------------------------------\n",
      "     |  Data and other attributes inherited from bs4.element.PageElement:\n",
      "     |  \n",
      "     |  HTML_FORMATTERS = {'html': <bound method HTMLAwareEntitySubstitution.s...\n",
      "     |  \n",
      "     |  XML_FORMATTERS = {'html': <bound method EntitySubstitution.substitute_...\n",
      "     |  \n",
      "     |  attribselect_re = re.compile('^(?P<tag>[a-zA-Z0-9][-.a-zA-Z0-9:_]*...[...\n",
      "     |  \n",
      "     |  tag_name_re = re.compile('^[a-zA-Z0-9][-.a-zA-Z0-9:_]*$')\n",
      "\n",
      "DATA\n",
      "    __all__ = ['BeautifulSoup']\n",
      "    __copyright__ = 'Copyright (c) 2004-2017 Leonard Richardson'\n",
      "    __license__ = 'MIT'\n",
      "\n",
      "VERSION\n",
      "    4.6.0\n",
      "\n",
      "AUTHOR\n",
      "    Leonard Richardson (leonardr@segfault.org)\n",
      "\n",
      "FILE\n",
      "    c:\\programdata\\anaconda3\\lib\\site-packages\\bs4\\__init__.py\n",
      "\n",
      "\n"
     ]
    }
   ],
   "source": [
    "help(bs4)"
   ]
  },
  {
   "cell_type": "code",
   "execution_count": 30,
   "metadata": {},
   "outputs": [],
   "source": [
    "arbre = bs4.BeautifulSoup(texte, \"lxml\")"
   ]
  },
  {
   "cell_type": "code",
   "execution_count": 31,
   "metadata": {},
   "outputs": [
    {
     "data": {
      "text/plain": [
       "bs4.BeautifulSoup"
      ]
     },
     "execution_count": 31,
     "metadata": {},
     "output_type": "execute_result"
    }
   ],
   "source": [
    "type(arbre)"
   ]
  },
  {
   "cell_type": "code",
   "execution_count": 32,
   "metadata": {
    "collapsed": true
   },
   "outputs": [
    {
     "data": {
      "text/plain": [
       "['ASCII_SPACES',\n",
       " 'DEFAULT_BUILDER_FEATURES',\n",
       " 'HTML_FORMATTERS',\n",
       " 'NO_PARSER_SPECIFIED_WARNING',\n",
       " 'ROOT_TAG_NAME',\n",
       " 'XML_FORMATTERS',\n",
       " '__bool__',\n",
       " '__call__',\n",
       " '__class__',\n",
       " '__contains__',\n",
       " '__copy__',\n",
       " '__delattr__',\n",
       " '__delitem__',\n",
       " '__dict__',\n",
       " '__dir__',\n",
       " '__doc__',\n",
       " '__eq__',\n",
       " '__format__',\n",
       " '__ge__',\n",
       " '__getattr__',\n",
       " '__getattribute__',\n",
       " '__getitem__',\n",
       " '__getstate__',\n",
       " '__gt__',\n",
       " '__hash__',\n",
       " '__init__',\n",
       " '__init_subclass__',\n",
       " '__iter__',\n",
       " '__le__',\n",
       " '__len__',\n",
       " '__lt__',\n",
       " '__module__',\n",
       " '__ne__',\n",
       " '__new__',\n",
       " '__reduce__',\n",
       " '__reduce_ex__',\n",
       " '__repr__',\n",
       " '__setattr__',\n",
       " '__setitem__',\n",
       " '__sizeof__',\n",
       " '__str__',\n",
       " '__subclasshook__',\n",
       " '__unicode__',\n",
       " '__weakref__',\n",
       " '_all_strings',\n",
       " '_attr_value_as_string',\n",
       " '_attribute_checker',\n",
       " '_check_markup_is_url',\n",
       " '_feed',\n",
       " '_find_all',\n",
       " '_find_one',\n",
       " '_formatter_for_name',\n",
       " '_is_xml',\n",
       " '_lastRecursiveChild',\n",
       " '_last_descendant',\n",
       " '_most_recent_element',\n",
       " '_popToTag',\n",
       " '_select_debug',\n",
       " '_selector_combinators',\n",
       " '_should_pretty_print',\n",
       " '_tag_name_matches_and',\n",
       " 'append',\n",
       " 'attribselect_re',\n",
       " 'attrs',\n",
       " 'builder',\n",
       " 'can_be_empty_element',\n",
       " 'childGenerator',\n",
       " 'children',\n",
       " 'clear',\n",
       " 'contains_replacement_characters',\n",
       " 'contents',\n",
       " 'currentTag',\n",
       " 'current_data',\n",
       " 'declared_html_encoding',\n",
       " 'decode',\n",
       " 'decode_contents',\n",
       " 'decompose',\n",
       " 'descendants',\n",
       " 'encode',\n",
       " 'encode_contents',\n",
       " 'endData',\n",
       " 'extract',\n",
       " 'fetchNextSiblings',\n",
       " 'fetchParents',\n",
       " 'fetchPrevious',\n",
       " 'fetchPreviousSiblings',\n",
       " 'find',\n",
       " 'findAll',\n",
       " 'findAllNext',\n",
       " 'findAllPrevious',\n",
       " 'findChild',\n",
       " 'findChildren',\n",
       " 'findNext',\n",
       " 'findNextSibling',\n",
       " 'findNextSiblings',\n",
       " 'findParent',\n",
       " 'findParents',\n",
       " 'findPrevious',\n",
       " 'findPreviousSibling',\n",
       " 'findPreviousSiblings',\n",
       " 'find_all',\n",
       " 'find_all_next',\n",
       " 'find_all_previous',\n",
       " 'find_next',\n",
       " 'find_next_sibling',\n",
       " 'find_next_siblings',\n",
       " 'find_parent',\n",
       " 'find_parents',\n",
       " 'find_previous',\n",
       " 'find_previous_sibling',\n",
       " 'find_previous_siblings',\n",
       " 'format_string',\n",
       " 'get',\n",
       " 'getText',\n",
       " 'get_attribute_list',\n",
       " 'get_text',\n",
       " 'handle_data',\n",
       " 'handle_endtag',\n",
       " 'handle_starttag',\n",
       " 'has_attr',\n",
       " 'has_key',\n",
       " 'hidden',\n",
       " 'index',\n",
       " 'insert',\n",
       " 'insert_after',\n",
       " 'insert_before',\n",
       " 'isSelfClosing',\n",
       " 'is_empty_element',\n",
       " 'is_xml',\n",
       " 'known_xml',\n",
       " 'markup',\n",
       " 'name',\n",
       " 'namespace',\n",
       " 'new_string',\n",
       " 'new_tag',\n",
       " 'next',\n",
       " 'nextGenerator',\n",
       " 'nextSibling',\n",
       " 'nextSiblingGenerator',\n",
       " 'next_element',\n",
       " 'next_elements',\n",
       " 'next_sibling',\n",
       " 'next_siblings',\n",
       " 'object_was_parsed',\n",
       " 'original_encoding',\n",
       " 'parent',\n",
       " 'parentGenerator',\n",
       " 'parents',\n",
       " 'parse_only',\n",
       " 'parserClass',\n",
       " 'parser_class',\n",
       " 'popTag',\n",
       " 'prefix',\n",
       " 'preserve_whitespace_tag_stack',\n",
       " 'preserve_whitespace_tags',\n",
       " 'prettify',\n",
       " 'previous',\n",
       " 'previousGenerator',\n",
       " 'previousSibling',\n",
       " 'previousSiblingGenerator',\n",
       " 'previous_element',\n",
       " 'previous_elements',\n",
       " 'previous_sibling',\n",
       " 'previous_siblings',\n",
       " 'pushTag',\n",
       " 'quoted_colon',\n",
       " 'recursiveChildGenerator',\n",
       " 'renderContents',\n",
       " 'replaceWith',\n",
       " 'replaceWithChildren',\n",
       " 'replace_with',\n",
       " 'replace_with_children',\n",
       " 'reset',\n",
       " 'select',\n",
       " 'select_one',\n",
       " 'setup',\n",
       " 'string',\n",
       " 'strings',\n",
       " 'stripped_strings',\n",
       " 'tagStack',\n",
       " 'tag_name_re',\n",
       " 'text',\n",
       " 'unwrap',\n",
       " 'wrap']"
      ]
     },
     "execution_count": 32,
     "metadata": {},
     "output_type": "execute_result"
    }
   ],
   "source": [
    "dir(arbre)"
   ]
  },
  {
   "cell_type": "code",
   "execution_count": 37,
   "metadata": {},
   "outputs": [],
   "source": [
    "noeud, = arbre.findAll(\"th\", text=\"Superficie totale\")"
   ]
  },
  {
   "cell_type": "code",
   "execution_count": 38,
   "metadata": {},
   "outputs": [
    {
     "name": "stdout",
     "output_type": "stream",
     "text": [
      "<th scope=\"row\" style=\"width:9em;\">Superficie totale</th>\n"
     ]
    }
   ],
   "source": [
    "print(noeud)"
   ]
  },
  {
   "cell_type": "code",
   "execution_count": 39,
   "metadata": {},
   "outputs": [
    {
     "data": {
      "text/plain": [
       "bs4.element.Tag"
      ]
     },
     "execution_count": 39,
     "metadata": {},
     "output_type": "execute_result"
    }
   ],
   "source": [
    "type(noeud)"
   ]
  },
  {
   "cell_type": "code",
   "execution_count": 40,
   "metadata": {
    "collapsed": true
   },
   "outputs": [
    {
     "data": {
      "text/plain": [
       "['HTML_FORMATTERS',\n",
       " 'XML_FORMATTERS',\n",
       " '__bool__',\n",
       " '__call__',\n",
       " '__class__',\n",
       " '__contains__',\n",
       " '__copy__',\n",
       " '__delattr__',\n",
       " '__delitem__',\n",
       " '__dict__',\n",
       " '__dir__',\n",
       " '__doc__',\n",
       " '__eq__',\n",
       " '__format__',\n",
       " '__ge__',\n",
       " '__getattr__',\n",
       " '__getattribute__',\n",
       " '__getitem__',\n",
       " '__gt__',\n",
       " '__hash__',\n",
       " '__init__',\n",
       " '__init_subclass__',\n",
       " '__iter__',\n",
       " '__le__',\n",
       " '__len__',\n",
       " '__lt__',\n",
       " '__module__',\n",
       " '__ne__',\n",
       " '__new__',\n",
       " '__reduce__',\n",
       " '__reduce_ex__',\n",
       " '__repr__',\n",
       " '__setattr__',\n",
       " '__setitem__',\n",
       " '__sizeof__',\n",
       " '__str__',\n",
       " '__subclasshook__',\n",
       " '__unicode__',\n",
       " '__weakref__',\n",
       " '_all_strings',\n",
       " '_attr_value_as_string',\n",
       " '_attribute_checker',\n",
       " '_find_all',\n",
       " '_find_one',\n",
       " '_formatter_for_name',\n",
       " '_is_xml',\n",
       " '_lastRecursiveChild',\n",
       " '_last_descendant',\n",
       " '_select_debug',\n",
       " '_selector_combinators',\n",
       " '_should_pretty_print',\n",
       " '_tag_name_matches_and',\n",
       " 'append',\n",
       " 'attribselect_re',\n",
       " 'attrs',\n",
       " 'can_be_empty_element',\n",
       " 'childGenerator',\n",
       " 'children',\n",
       " 'clear',\n",
       " 'contents',\n",
       " 'decode',\n",
       " 'decode_contents',\n",
       " 'decompose',\n",
       " 'descendants',\n",
       " 'encode',\n",
       " 'encode_contents',\n",
       " 'extract',\n",
       " 'fetchNextSiblings',\n",
       " 'fetchParents',\n",
       " 'fetchPrevious',\n",
       " 'fetchPreviousSiblings',\n",
       " 'find',\n",
       " 'findAll',\n",
       " 'findAllNext',\n",
       " 'findAllPrevious',\n",
       " 'findChild',\n",
       " 'findChildren',\n",
       " 'findNext',\n",
       " 'findNextSibling',\n",
       " 'findNextSiblings',\n",
       " 'findParent',\n",
       " 'findParents',\n",
       " 'findPrevious',\n",
       " 'findPreviousSibling',\n",
       " 'findPreviousSiblings',\n",
       " 'find_all',\n",
       " 'find_all_next',\n",
       " 'find_all_previous',\n",
       " 'find_next',\n",
       " 'find_next_sibling',\n",
       " 'find_next_siblings',\n",
       " 'find_parent',\n",
       " 'find_parents',\n",
       " 'find_previous',\n",
       " 'find_previous_sibling',\n",
       " 'find_previous_siblings',\n",
       " 'format_string',\n",
       " 'get',\n",
       " 'getText',\n",
       " 'get_attribute_list',\n",
       " 'get_text',\n",
       " 'has_attr',\n",
       " 'has_key',\n",
       " 'hidden',\n",
       " 'index',\n",
       " 'insert',\n",
       " 'insert_after',\n",
       " 'insert_before',\n",
       " 'isSelfClosing',\n",
       " 'is_empty_element',\n",
       " 'known_xml',\n",
       " 'name',\n",
       " 'namespace',\n",
       " 'next',\n",
       " 'nextGenerator',\n",
       " 'nextSibling',\n",
       " 'nextSiblingGenerator',\n",
       " 'next_element',\n",
       " 'next_elements',\n",
       " 'next_sibling',\n",
       " 'next_siblings',\n",
       " 'parent',\n",
       " 'parentGenerator',\n",
       " 'parents',\n",
       " 'parserClass',\n",
       " 'parser_class',\n",
       " 'prefix',\n",
       " 'preserve_whitespace_tags',\n",
       " 'prettify',\n",
       " 'previous',\n",
       " 'previousGenerator',\n",
       " 'previousSibling',\n",
       " 'previousSiblingGenerator',\n",
       " 'previous_element',\n",
       " 'previous_elements',\n",
       " 'previous_sibling',\n",
       " 'previous_siblings',\n",
       " 'quoted_colon',\n",
       " 'recursiveChildGenerator',\n",
       " 'renderContents',\n",
       " 'replaceWith',\n",
       " 'replaceWithChildren',\n",
       " 'replace_with',\n",
       " 'replace_with_children',\n",
       " 'select',\n",
       " 'select_one',\n",
       " 'setup',\n",
       " 'string',\n",
       " 'strings',\n",
       " 'stripped_strings',\n",
       " 'tag_name_re',\n",
       " 'text',\n",
       " 'unwrap',\n",
       " 'wrap']"
      ]
     },
     "execution_count": 40,
     "metadata": {},
     "output_type": "execute_result"
    }
   ],
   "source": [
    "dir(noeud)"
   ]
  },
  {
   "cell_type": "code",
   "execution_count": 44,
   "metadata": {},
   "outputs": [
    {
     "name": "stdout",
     "output_type": "stream",
     "text": [
      "<td>\n",
      "632 734<sup class=\"reference\" id=\"cite_ref-1\"><a href=\"#cite_note-1\"><span class=\"cite_crochet\">[</span>1<span class=\"cite_crochet\">]</span></a></sup><sup class=\"reference cite_virgule\">,</sup><sup class=\"reference\" id=\"cite_ref-2\"><a href=\"#cite_note-2\"><span class=\"cite_crochet\">[</span>2<span class=\"cite_crochet\">]</span></a></sup><sup class=\"reference cite_virgule\">,</sup><sup class=\"reference\" id=\"cite_ref-3\"><a href=\"#cite_note-3\"><span class=\"cite_crochet\">[</span>N 1<span class=\"cite_crochet\">]</span></a></sup> <a href=\"/wiki/Kilom%C3%A8tre_carr%C3%A9\" title=\"Kilomètre carré\">km<sup>2</sup></a><br/>(<a href=\"/wiki/Liste_des_pays_et_territoires_par_superficie\" title=\"Liste des pays et territoires par superficie\">classé 41<sup>e</sup></a>)</td>\n"
     ]
    }
   ],
   "source": [
    "resultat = noeud.find_next(\"td\")\n",
    "print(resultat)"
   ]
  },
  {
   "cell_type": "code",
   "execution_count": 46,
   "metadata": {},
   "outputs": [
    {
     "name": "stdout",
     "output_type": "stream",
     "text": [
      "\n",
      "632 734[1],[2],[N 1] km2(classé 41e)\n"
     ]
    }
   ],
   "source": [
    "print(resultat.text)"
   ]
  },
  {
   "cell_type": "code",
   "execution_count": 47,
   "metadata": {},
   "outputs": [
    {
     "name": "stdout",
     "output_type": "stream",
     "text": [
      "\n",
      "  :  10\n",
      "6  :  54\n",
      "3  :  51\n",
      "2  :  50\n",
      "   :  160\n",
      "7  :  55\n",
      "3  :  51\n",
      "4  :  52\n",
      "[  :  91\n",
      "1  :  49\n",
      "]  :  93\n",
      ",  :  44\n",
      "[  :  91\n",
      "2  :  50\n",
      "]  :  93\n",
      ",  :  44\n",
      "[  :  91\n",
      "N  :  78\n",
      "   :  32\n",
      "1  :  49\n",
      "]  :  93\n",
      "   :  160\n",
      "k  :  107\n",
      "m  :  109\n",
      "2  :  50\n",
      "(  :  40\n",
      "c  :  99\n",
      "l  :  108\n",
      "a  :  97\n",
      "s  :  115\n",
      "s  :  115\n",
      "é  :  233\n",
      "   :  32\n",
      "4  :  52\n",
      "1  :  49\n",
      "e  :  101\n",
      ")  :  41\n"
     ]
    }
   ],
   "source": [
    "for car in resultat.text:\n",
    "    print(car, \" : \", ord(car))"
   ]
  },
  {
   "cell_type": "code",
   "execution_count": 50,
   "metadata": {},
   "outputs": [],
   "source": [
    "motif = re.compile(\"(\\d{1,3})\\\\xA0(\\d{3})\")"
   ]
  },
  {
   "cell_type": "code",
   "execution_count": 53,
   "metadata": {},
   "outputs": [
    {
     "name": "stdout",
     "output_type": "stream",
     "text": [
      "12 123\n"
     ]
    },
    {
     "data": {
      "text/plain": [
       "[('12', '123')]"
      ]
     },
     "execution_count": 53,
     "metadata": {},
     "output_type": "execute_result"
    }
   ],
   "source": [
    "test = \"12\\xA0123\"\n",
    "print(test)\n",
    "motif.findall(test)"
   ]
  },
  {
   "cell_type": "code",
   "execution_count": 56,
   "metadata": {},
   "outputs": [
    {
     "name": "stdout",
     "output_type": "stream",
     "text": [
      "632734\n"
     ]
    }
   ],
   "source": [
    "(n1, n2), = motif.findall(resultat.text)\n",
    "resultat_final = int(n1 + n2)\n",
    "print(resultat_final)"
   ]
  },
  {
   "cell_type": "code",
   "execution_count": 59,
   "metadata": {},
   "outputs": [],
   "source": [
    "noeud, *_ = arbre.find_all(\"a\", text=\"PIB nominal\")"
   ]
  },
  {
   "cell_type": "code",
   "execution_count": 60,
   "metadata": {},
   "outputs": [
    {
     "data": {
      "text/plain": [
       "{'href': '/wiki/Produit_int%C3%A9rieur_brut',\n",
       " 'title': 'Produit intérieur brut'}"
      ]
     },
     "execution_count": 60,
     "metadata": {},
     "output_type": "execute_result"
    }
   ],
   "source": [
    "noeud.attrs"
   ]
  },
  {
   "cell_type": "code",
   "execution_count": 62,
   "metadata": {},
   "outputs": [
    {
     "name": "stdout",
     "output_type": "stream",
     "text": [
      "<td>\n",
      "<img alt=\"en augmentation\" data-file-height=\"300\" data-file-width=\"300\" decoding=\"async\" height=\"11\" src=\"//upload.wikimedia.org/wikipedia/commons/thumb/b/b0/Increase2.svg/11px-Increase2.svg.png\" srcset=\"//upload.wikimedia.org/wikipedia/commons/thumb/b/b0/Increase2.svg/17px-Increase2.svg.png 1.5x, //upload.wikimedia.org/wikipedia/commons/thumb/b/b0/Increase2.svg/22px-Increase2.svg.png 2x\" title=\"en augmentation\" width=\"11\"/> 2 775,252 milliards de <a href=\"/wiki/Dollar_am%C3%A9ricain\" title=\"Dollar américain\">$</a><br/>+1,7 % (<a href=\"/wiki/Liste_des_pays_par_PIB_nominal\" title=\"Liste des pays par PIB nominal\"><abbr class=\"abbr\" title=\"Sixième\">6<sup>e</sup></abbr>/193</a>)</td>\n"
     ]
    }
   ],
   "source": [
    "resultat = noeud.find_next(\"td\")\n",
    "print(resultat)"
   ]
  },
  {
   "cell_type": "code",
   "execution_count": 63,
   "metadata": {},
   "outputs": [
    {
     "name": "stdout",
     "output_type": "stream",
     "text": [
      "\n",
      " 2 775,252 milliards de $+1,7 % (6e/193)\n"
     ]
    }
   ],
   "source": [
    "print(resultat.text)"
   ]
  },
  {
   "cell_type": "code",
   "execution_count": 64,
   "metadata": {},
   "outputs": [
    {
     "name": "stdout",
     "output_type": "stream",
     "text": [
      "\n",
      "  :  10\n",
      "   :  32\n",
      "2  :  50\n",
      "   :  160\n",
      "7  :  55\n",
      "7  :  55\n",
      "5  :  53\n",
      ",  :  44\n",
      "2  :  50\n",
      "5  :  53\n",
      "2  :  50\n",
      "   :  160\n",
      "m  :  109\n",
      "i  :  105\n",
      "l  :  108\n",
      "l  :  108\n",
      "i  :  105\n",
      "a  :  97\n",
      "r  :  114\n",
      "d  :  100\n",
      "s  :  115\n",
      "   :  32\n",
      "d  :  100\n",
      "e  :  101\n",
      "   :  32\n",
      "$  :  36\n",
      "+  :  43\n",
      "1  :  49\n",
      ",  :  44\n",
      "7  :  55\n",
      "   :  160\n",
      "%  :  37\n",
      "   :  32\n",
      "(  :  40\n",
      "6  :  54\n",
      "e  :  101\n",
      "/  :  47\n",
      "1  :  49\n",
      "9  :  57\n",
      "3  :  51\n",
      ")  :  41\n"
     ]
    }
   ],
   "source": [
    "for car in resultat.text:\n",
    "    print(car, \" : \", ord(car))"
   ]
  },
  {
   "cell_type": "code",
   "execution_count": 65,
   "metadata": {},
   "outputs": [
    {
     "data": {
      "text/plain": [
       "44"
      ]
     },
     "execution_count": 65,
     "metadata": {},
     "output_type": "execute_result"
    }
   ],
   "source": [
    "ord(\",\")"
   ]
  },
  {
   "cell_type": "code",
   "execution_count": 67,
   "metadata": {},
   "outputs": [
    {
     "data": {
      "text/plain": [
       "[('2', '775', '252')]"
      ]
     },
     "execution_count": 67,
     "metadata": {},
     "output_type": "execute_result"
    }
   ],
   "source": [
    "motif = re.compile(\"(\\d)\\xA0(\\d{3}),(\\d{3})\")\n",
    "motif.findall(resultat.text)"
   ]
  },
  {
   "cell_type": "code",
   "execution_count": 68,
   "metadata": {},
   "outputs": [
    {
     "ename": "NameError",
     "evalue": "name '__version__' is not defined",
     "output_type": "error",
     "traceback": [
      "\u001b[1;31m---------------------------------------------------------------------------\u001b[0m",
      "\u001b[1;31mNameError\u001b[0m                                 Traceback (most recent call last)",
      "\u001b[1;32m<ipython-input-68-4b773486c96b>\u001b[0m in \u001b[0;36m<module>\u001b[1;34m()\u001b[0m\n\u001b[1;32m----> 1\u001b[1;33m \u001b[0mprint\u001b[0m\u001b[1;33m(\u001b[0m\u001b[0m__version__\u001b[0m\u001b[1;33m)\u001b[0m\u001b[1;33m\u001b[0m\u001b[0m\n\u001b[0m",
      "\u001b[1;31mNameError\u001b[0m: name '__version__' is not defined"
     ]
    }
   ],
   "source": [
    "print(__version__)"
   ]
  },
  {
   "cell_type": "code",
   "execution_count": 69,
   "metadata": {},
   "outputs": [],
   "source": [
    "from collections import namedtuple"
   ]
  },
  {
   "cell_type": "code",
   "execution_count": 71,
   "metadata": {},
   "outputs": [],
   "source": [
    "Stats = namedtuple(\"Stats\", (\"superficie\", \"pib\"))"
   ]
  },
  {
   "cell_type": "code",
   "execution_count": 72,
   "metadata": {},
   "outputs": [
    {
     "data": {
      "text/plain": [
       "type"
      ]
     },
     "execution_count": 72,
     "metadata": {},
     "output_type": "execute_result"
    }
   ],
   "source": [
    "type(Stats)"
   ]
  },
  {
   "cell_type": "code",
   "execution_count": 73,
   "metadata": {},
   "outputs": [],
   "source": [
    "res = Stats(12, 1)"
   ]
  },
  {
   "cell_type": "code",
   "execution_count": 74,
   "metadata": {},
   "outputs": [
    {
     "name": "stdout",
     "output_type": "stream",
     "text": [
      "Stats(superficie=12, pib=1)\n"
     ]
    }
   ],
   "source": [
    "print(res)"
   ]
  },
  {
   "cell_type": "code",
   "execution_count": 75,
   "metadata": {},
   "outputs": [
    {
     "data": {
      "text/plain": [
       "12"
      ]
     },
     "execution_count": 75,
     "metadata": {},
     "output_type": "execute_result"
    }
   ],
   "source": [
    "res.superficie"
   ]
  },
  {
   "cell_type": "code",
   "execution_count": 76,
   "metadata": {},
   "outputs": [
    {
     "data": {
      "text/plain": [
       "1"
      ]
     },
     "execution_count": 76,
     "metadata": {},
     "output_type": "execute_result"
    }
   ],
   "source": [
    "res.pib"
   ]
  },
  {
   "cell_type": "code",
   "execution_count": null,
   "metadata": {},
   "outputs": [],
   "source": []
  }
 ],
 "metadata": {
  "kernelspec": {
   "display_name": "Python 3",
   "language": "python",
   "name": "python3"
  },
  "language_info": {
   "codemirror_mode": {
    "name": "ipython",
    "version": 3
   },
   "file_extension": ".py",
   "mimetype": "text/x-python",
   "name": "python",
   "nbconvert_exporter": "python",
   "pygments_lexer": "ipython3",
   "version": "3.6.5"
  }
 },
 "nbformat": 4,
 "nbformat_minor": 2
}
