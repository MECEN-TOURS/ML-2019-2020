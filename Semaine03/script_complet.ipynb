{
 "cells": [
  {
   "cell_type": "markdown",
   "metadata": {},
   "source": [
    "# Objectif\n",
    "\n",
    "- compléter l'extraction des statistiques sur les pays wikipédia\n",
    "- gérer les erreurs potentielles pour éviter de crasher le script\n",
    "- sérialiser les données sous forme csv et json"
   ]
  },
  {
   "cell_type": "markdown",
   "metadata": {},
   "source": [
    "## Extraction des données\n",
    "\n",
    "voir semaine précédente"
   ]
  },
  {
   "cell_type": "markdown",
   "metadata": {},
   "source": [
    "## Gestion des erreurs"
   ]
  },
  {
   "cell_type": "code",
   "execution_count": 5,
   "metadata": {
    "scrolled": true
   },
   "outputs": [
    {
     "name": "stdout",
     "output_type": "stream",
     "text": [
      "0\n",
      "On ne divise pas par zero\n"
     ]
    }
   ],
   "source": [
    "diviseur = int(input())\n",
    "try:\n",
    "    x = 1 / diviseur\n",
    "    y = y + x\n",
    "except ZeroDivisionError:\n",
    "    print(\"On ne divise pas par zero\")\n",
    "except NameError:\n",
    "    print(\"Il faut commencer par définir les objets\")"
   ]
  },
  {
   "cell_type": "code",
   "execution_count": 6,
   "metadata": {},
   "outputs": [],
   "source": [
    "from requests import get"
   ]
  },
  {
   "cell_type": "code",
   "execution_count": 9,
   "metadata": {},
   "outputs": [
    {
     "name": "stdout",
     "output_type": "stream",
     "text": [
      "Problème de récupération\n"
     ]
    }
   ],
   "source": [
    "page = get(\"https://www.amazon.fr/dp/2412045143/\")\n",
    "if page.status_code == 200:\n",
    "    print(\"Tout s'est bien passé\")\n",
    "else:\n",
    "    print(\"Problème de récupération\")"
   ]
  },
  {
   "cell_type": "code",
   "execution_count": 15,
   "metadata": {},
   "outputs": [],
   "source": [
    "import requests\n"
   ]
  },
  {
   "cell_type": "code",
   "execution_count": 17,
   "metadata": {},
   "outputs": [
    {
     "data": {
      "text/plain": [
       "['BaseHTTPError',\n",
       " 'ChunkedEncodingError',\n",
       " 'ConnectTimeout',\n",
       " 'ConnectionError',\n",
       " 'ContentDecodingError',\n",
       " 'FileModeWarning',\n",
       " 'HTTPError',\n",
       " 'InvalidHeader',\n",
       " 'InvalidSchema',\n",
       " 'InvalidURL',\n",
       " 'MissingSchema',\n",
       " 'ProxyError',\n",
       " 'ReadTimeout',\n",
       " 'RequestException',\n",
       " 'RequestsDependencyWarning',\n",
       " 'RequestsWarning',\n",
       " 'RetryError',\n",
       " 'SSLError',\n",
       " 'StreamConsumedError',\n",
       " 'Timeout',\n",
       " 'TooManyRedirects',\n",
       " 'URLRequired',\n",
       " 'UnrewindableBodyError',\n",
       " '__builtins__',\n",
       " '__cached__',\n",
       " '__doc__',\n",
       " '__file__',\n",
       " '__loader__',\n",
       " '__name__',\n",
       " '__package__',\n",
       " '__spec__']"
      ]
     },
     "execution_count": 17,
     "metadata": {},
     "output_type": "execute_result"
    }
   ],
   "source": [
    "dir(requests.exceptions)"
   ]
  },
  {
   "cell_type": "code",
   "execution_count": 27,
   "metadata": {},
   "outputs": [
    {
     "name": "stdout",
     "output_type": "stream",
     "text": [
      "<class 'requests.exceptions.ConnectionError'>\n",
      "['__cause__', '__class__', '__context__', '__delattr__', '__dict__', '__dir__', '__doc__', '__eq__', '__format__', '__ge__', '__getattribute__', '__gt__', '__hash__', '__init__', '__init_subclass__', '__le__', '__lt__', '__module__', '__ne__', '__new__', '__reduce__', '__reduce_ex__', '__repr__', '__setattr__', '__setstate__', '__sizeof__', '__str__', '__subclasshook__', '__suppress_context__', '__traceback__', '__weakref__', 'args', 'characters_written', 'errno', 'filename', 'filename2', 'request', 'response', 'strerror', 'winerror', 'with_traceback']\n"
     ]
    }
   ],
   "source": [
    "try:\n",
    "    page = get(\"http://lmonde.fra\")\n",
    "except Exception as e:\n",
    "    print(type(e))\n",
    "    print(dir(e))\n",
    "    "
   ]
  },
  {
   "cell_type": "code",
   "execution_count": 28,
   "metadata": {},
   "outputs": [
    {
     "name": "stdout",
     "output_type": "stream",
     "text": [
      "Problème\n"
     ]
    }
   ],
   "source": [
    "try:\n",
    "    page = get(\"http://lmonde.fra\")\n",
    "except requests.exceptions.ConnectionError:\n",
    "    print(\"Problème\")"
   ]
  },
  {
   "cell_type": "markdown",
   "metadata": {},
   "source": [
    "### Exercice\n",
    "\n",
    "Reprendre le script principal de la semaine précédente et ajouter la gestion des erreurs\n",
    "- de connexion\n",
    "- d'extraction de chaque statistique"
   ]
  },
  {
   "cell_type": "markdown",
   "metadata": {},
   "source": [
    "Statistique à extraire\n",
    "- PIB\n",
    "- Superficie\n",
    "- Population\n",
    "- dette publique\n",
    "- monnaie\n",
    "- régime parlementaire"
   ]
  },
  {
   "cell_type": "markdown",
   "metadata": {},
   "source": [
    "Liste des pays\n",
    "- tous les pays de l UE\n",
    "- Amérique du Nord\n",
    "- Chine, Corée, Inde, Japon\n",
    "- Australie\n",
    "- Russie"
   ]
  },
  {
   "cell_type": "code",
   "execution_count": 29,
   "metadata": {},
   "outputs": [],
   "source": [
    "from bs4 import BeautifulSoup"
   ]
  },
  {
   "cell_type": "code",
   "execution_count": 31,
   "metadata": {},
   "outputs": [],
   "source": [
    "addresse = \"https://fr.wikipedia.org/wiki/Union_europ%C3%A9enne\"\n",
    "texte = get(addresse).text\n",
    "page = BeautifulSoup(texte, \"lxml\")"
   ]
  },
  {
   "cell_type": "code",
   "execution_count": 34,
   "metadata": {},
   "outputs": [],
   "source": [
    "haut_table, = page.find_all(\"b\", text=\"États membres de l'Union européenne\")"
   ]
  },
  {
   "cell_type": "code",
   "execution_count": 36,
   "metadata": {},
   "outputs": [],
   "source": [
    "drapeau = haut_table.find_next(\"span\", attrs={\"class\" : \"flagicon\"})"
   ]
  },
  {
   "cell_type": "code",
   "execution_count": 39,
   "metadata": {},
   "outputs": [],
   "source": [
    "addr_drapeau = drapeau.find_next(\"a\")\n",
    "lien_page = addr_drapeau.find_next(\"a\")"
   ]
  },
  {
   "cell_type": "code",
   "execution_count": 40,
   "metadata": {},
   "outputs": [
    {
     "data": {
      "text/plain": [
       "<a href=\"/wiki/Allemagne\" title=\"Allemagne\">Allemagne</a>"
      ]
     },
     "execution_count": 40,
     "metadata": {},
     "output_type": "execute_result"
    }
   ],
   "source": [
    "lien_page"
   ]
  },
  {
   "cell_type": "code",
   "execution_count": 42,
   "metadata": {},
   "outputs": [
    {
     "data": {
      "text/plain": [
       "'/wiki/Allemagne'"
      ]
     },
     "execution_count": 42,
     "metadata": {},
     "output_type": "execute_result"
    }
   ],
   "source": [
    "lien_page.attrs[\"href\"]"
   ]
  },
  {
   "cell_type": "code",
   "execution_count": null,
   "metadata": {},
   "outputs": [],
   "source": []
  }
 ],
 "metadata": {
  "kernelspec": {
   "display_name": "Python 3",
   "language": "python",
   "name": "python3"
  },
  "language_info": {
   "codemirror_mode": {
    "name": "ipython",
    "version": 3
   },
   "file_extension": ".py",
   "mimetype": "text/x-python",
   "name": "python",
   "nbconvert_exporter": "python",
   "pygments_lexer": "ipython3",
   "version": "3.6.5"
  }
 },
 "nbformat": 4,
 "nbformat_minor": 2
}
